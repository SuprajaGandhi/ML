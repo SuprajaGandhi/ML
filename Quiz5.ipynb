{
 "cells": [
  {
   "cell_type": "code",
   "execution_count": 73,
   "id": "336d480e",
   "metadata": {},
   "outputs": [],
   "source": [
    "import pandas as pd\n",
    "import json"
   ]
  },
  {
   "cell_type": "code",
   "execution_count": 74,
   "id": "cd78b42c",
   "metadata": {},
   "outputs": [],
   "source": [
    "#train_data=pd.read_json('/Users/suprajagandhi/Downloads/deliverable-dataset/training-set-100000.json')"
   ]
  },
  {
   "cell_type": "code",
   "execution_count": 75,
   "id": "fdcbbd09",
   "metadata": {},
   "outputs": [],
   "source": [
    "# Read the json file and convert to json dict\n",
    "with open(\"/Users/suprajagandhi/Downloads/deliverable-dataset/training-set-100000.json\", \"r\") as file:\n",
    "    data = json.load(file)"
   ]
  },
  {
   "cell_type": "code",
   "execution_count": 76,
   "id": "c69aec69",
   "metadata": {},
   "outputs": [
    {
     "data": {
      "text/html": [
       "<div>\n",
       "<style scoped>\n",
       "    .dataframe tbody tr th:only-of-type {\n",
       "        vertical-align: middle;\n",
       "    }\n",
       "\n",
       "    .dataframe tbody tr th {\n",
       "        vertical-align: top;\n",
       "    }\n",
       "\n",
       "    .dataframe thead th {\n",
       "        text-align: right;\n",
       "    }\n",
       "</style>\n",
       "<table border=\"1\" class=\"dataframe\">\n",
       "  <thead>\n",
       "    <tr style=\"text-align: right;\">\n",
       "      <th></th>\n",
       "      <th>abstractText</th>\n",
       "      <th>journal</th>\n",
       "      <th>meshMajor</th>\n",
       "      <th>pmid</th>\n",
       "      <th>title</th>\n",
       "      <th>year</th>\n",
       "    </tr>\n",
       "  </thead>\n",
       "  <tbody>\n",
       "    <tr>\n",
       "      <th>0</th>\n",
       "      <td>To clarify the role of endothelial cells in th...</td>\n",
       "      <td>Journal of neurology, neurosurgery, and psychi...</td>\n",
       "      <td>[Aged, Autoantibodies, Biopsy, Cell Adhesion M...</td>\n",
       "      <td>1372348</td>\n",
       "      <td>Endothelial cell activation in vasculitis of p...</td>\n",
       "      <td>1992</td>\n",
       "    </tr>\n",
       "    <tr>\n",
       "      <th>1</th>\n",
       "      <td>AIMS: In light of recently found contribution ...</td>\n",
       "      <td>European journal of surgical oncology : the jo...</td>\n",
       "      <td>[Adult, Aged, Aged, 80 and over, Carcinoma, Sq...</td>\n",
       "      <td>17174061</td>\n",
       "      <td>The interleukin-8 (-251A/T) polymorphism is as...</td>\n",
       "      <td>2007</td>\n",
       "    </tr>\n",
       "    <tr>\n",
       "      <th>2</th>\n",
       "      <td>The growth potential of normal and transformed...</td>\n",
       "      <td>Cancer letters</td>\n",
       "      <td>[Animals, Cell Line, Cell Transformation, Neop...</td>\n",
       "      <td>544009</td>\n",
       "      <td>Identification of transformed rat liver epithe...</td>\n",
       "      <td>1979</td>\n",
       "    </tr>\n",
       "    <tr>\n",
       "      <th>3</th>\n",
       "      <td>In the absence of autopsy studies, the etiolog...</td>\n",
       "      <td>Archives des maladies du coeur et des vaisseaux</td>\n",
       "      <td>[Arrhythmias, Cardiac, Death, Sudden, Cardiac,...</td>\n",
       "      <td>8267507</td>\n",
       "      <td>[Primary ventricular fibrillation].</td>\n",
       "      <td>1993</td>\n",
       "    </tr>\n",
       "    <tr>\n",
       "      <th>4</th>\n",
       "      <td>A method has been developed which is able to q...</td>\n",
       "      <td>Journal of chromatography. A</td>\n",
       "      <td>[Amino Acid Sequence, Electrophoresis, Capilla...</td>\n",
       "      <td>9764495</td>\n",
       "      <td>Quantifying biosynthetic human growth hormone ...</td>\n",
       "      <td>1998</td>\n",
       "    </tr>\n",
       "  </tbody>\n",
       "</table>\n",
       "</div>"
      ],
      "text/plain": [
       "                                        abstractText  \\\n",
       "0  To clarify the role of endothelial cells in th...   \n",
       "1  AIMS: In light of recently found contribution ...   \n",
       "2  The growth potential of normal and transformed...   \n",
       "3  In the absence of autopsy studies, the etiolog...   \n",
       "4  A method has been developed which is able to q...   \n",
       "\n",
       "                                             journal  \\\n",
       "0  Journal of neurology, neurosurgery, and psychi...   \n",
       "1  European journal of surgical oncology : the jo...   \n",
       "2                                     Cancer letters   \n",
       "3    Archives des maladies du coeur et des vaisseaux   \n",
       "4                       Journal of chromatography. A   \n",
       "\n",
       "                                           meshMajor      pmid  \\\n",
       "0  [Aged, Autoantibodies, Biopsy, Cell Adhesion M...   1372348   \n",
       "1  [Adult, Aged, Aged, 80 and over, Carcinoma, Sq...  17174061   \n",
       "2  [Animals, Cell Line, Cell Transformation, Neop...    544009   \n",
       "3  [Arrhythmias, Cardiac, Death, Sudden, Cardiac,...   8267507   \n",
       "4  [Amino Acid Sequence, Electrophoresis, Capilla...   9764495   \n",
       "\n",
       "                                               title  year  \n",
       "0  Endothelial cell activation in vasculitis of p...  1992  \n",
       "1  The interleukin-8 (-251A/T) polymorphism is as...  2007  \n",
       "2  Identification of transformed rat liver epithe...  1979  \n",
       "3                [Primary ventricular fibrillation].  1993  \n",
       "4  Quantifying biosynthetic human growth hormone ...  1998  "
      ]
     },
     "execution_count": 76,
     "metadata": {},
     "output_type": "execute_result"
    }
   ],
   "source": [
    "#Converting json dictionary to dataframe\n",
    "tr_data = pd.DataFrame(data[\"articles\"])\n",
    "tr_data.head()"
   ]
  },
  {
   "cell_type": "code",
   "execution_count": 77,
   "id": "2099e95d",
   "metadata": {},
   "outputs": [
    {
     "name": "stdout",
     "output_type": "stream",
     "text": [
      "Rows : 100000\n",
      "Columns : 6\n",
      "Index(['abstractText', 'journal', 'meshMajor', 'pmid', 'title', 'year'], dtype='object')\n"
     ]
    }
   ],
   "source": [
    "print(\"Rows : \" + str(tr_data.shape[0]))\n",
    "print(\"Columns : \" + str(tr_data.shape[1]))\n",
    "print(tr_data.columns)"
   ]
  },
  {
   "cell_type": "code",
   "execution_count": 78,
   "id": "60e013a5",
   "metadata": {},
   "outputs": [],
   "source": [
    "#Considering only 1000 rows to improve performance\n",
    "tr_data = tr_data[:1000]"
   ]
  },
  {
   "cell_type": "code",
   "execution_count": 79,
   "id": "64044647",
   "metadata": {},
   "outputs": [
    {
     "name": "stdout",
     "output_type": "stream",
     "text": [
      "0      [Aged, Autoantibodies, Biopsy, Cell Adhesion M...\n",
      "1      [Adult, Aged, Aged, 80 and over, Carcinoma, Sq...\n",
      "2      [Animals, Cell Line, Cell Transformation, Neop...\n",
      "3      [Arrhythmias, Cardiac, Death, Sudden, Cardiac,...\n",
      "4      [Amino Acid Sequence, Electrophoresis, Capilla...\n",
      "                             ...                        \n",
      "995    [ADP-Ribosylation Factors, Adaptor Proteins, V...\n",
      "996    [Cell Membrane, Chromatography, Chromatography...\n",
      "997    [Calmodulin, Chromatography, Affinity, Fluores...\n",
      "998    [Art Therapy, Child, Fantasy, Female, Foster H...\n",
      "999    [Aged, Anticoagulants, Antithrombins, Brain Is...\n",
      "Name: meshMajor, Length: 1000, dtype: object\n"
     ]
    }
   ],
   "source": [
    "input_data = tr_data['title'] + ' ' + tr_data['abstractText']\n",
    "output_data = tr_data['meshMajor']\n",
    "print(output_data)\n"
   ]
  },
  {
   "cell_type": "code",
   "execution_count": 80,
   "id": "14a442e9",
   "metadata": {},
   "outputs": [
    {
     "name": "stdout",
     "output_type": "stream",
     "text": [
      "18\n",
      "19\n"
     ]
    }
   ],
   "source": [
    "print(len(output_data[0]))\n",
    "print(len(output_data[1]))\n",
    "#Mesh major column is a array of varying lengths"
   ]
  },
  {
   "cell_type": "code",
   "execution_count": 81,
   "id": "debb66d4",
   "metadata": {},
   "outputs": [],
   "source": [
    "from sklearn.preprocessing import MultiLabelBinarizer\n",
    "from scipy.sparse import csr_matrix\n",
    "binarizer = MultiLabelBinarizer(sparse_output=True)"
   ]
  },
  {
   "cell_type": "code",
   "execution_count": 82,
   "id": "08d98fb1",
   "metadata": {},
   "outputs": [],
   "source": [
    "output_binary = binarizer.fit_transform(output_data)\n",
    "outputbd = csr_matrix(output_binary).todense()"
   ]
  },
  {
   "cell_type": "code",
   "execution_count": 83,
   "id": "30ae4d04",
   "metadata": {},
   "outputs": [],
   "source": [
    "from sklearn.feature_extraction.text import TfidfVectorizer\n",
    "from sklearn.pipeline import Pipeline\n",
    "from sklearn.multioutput import MultiOutputClassifier\n",
    "from sklearn.ensemble import RandomForestClassifier\n",
    "\n",
    "pipe = Pipeline([\n",
    "    ('tfidf', TfidfVectorizer(stop_words='english')),  \n",
    "    ('classifier', MultiOutputClassifier(RandomForestClassifier()))\n",
    "])"
   ]
  },
  {
   "cell_type": "code",
   "execution_count": 106,
   "id": "9af3ffaa",
   "metadata": {},
   "outputs": [
    {
     "name": "stderr",
     "output_type": "stream",
     "text": [
      "/Users/suprajagandhi/opt/anaconda3/lib/python3.9/site-packages/sklearn/utils/validation.py:727: FutureWarning: np.matrix usage is deprecated in 1.0 and will raise a TypeError in 1.2. Please convert to a numpy array with np.asarray. For more information see: https://numpy.org/doc/stable/reference/generated/numpy.matrix.html\n",
      "  warnings.warn(\n"
     ]
    },
    {
     "data": {
      "text/html": [
       "<style>#sk-container-id-4 {color: black;background-color: white;}#sk-container-id-4 pre{padding: 0;}#sk-container-id-4 div.sk-toggleable {background-color: white;}#sk-container-id-4 label.sk-toggleable__label {cursor: pointer;display: block;width: 100%;margin-bottom: 0;padding: 0.3em;box-sizing: border-box;text-align: center;}#sk-container-id-4 label.sk-toggleable__label-arrow:before {content: \"▸\";float: left;margin-right: 0.25em;color: #696969;}#sk-container-id-4 label.sk-toggleable__label-arrow:hover:before {color: black;}#sk-container-id-4 div.sk-estimator:hover label.sk-toggleable__label-arrow:before {color: black;}#sk-container-id-4 div.sk-toggleable__content {max-height: 0;max-width: 0;overflow: hidden;text-align: left;background-color: #f0f8ff;}#sk-container-id-4 div.sk-toggleable__content pre {margin: 0.2em;color: black;border-radius: 0.25em;background-color: #f0f8ff;}#sk-container-id-4 input.sk-toggleable__control:checked~div.sk-toggleable__content {max-height: 200px;max-width: 100%;overflow: auto;}#sk-container-id-4 input.sk-toggleable__control:checked~label.sk-toggleable__label-arrow:before {content: \"▾\";}#sk-container-id-4 div.sk-estimator input.sk-toggleable__control:checked~label.sk-toggleable__label {background-color: #d4ebff;}#sk-container-id-4 div.sk-label input.sk-toggleable__control:checked~label.sk-toggleable__label {background-color: #d4ebff;}#sk-container-id-4 input.sk-hidden--visually {border: 0;clip: rect(1px 1px 1px 1px);clip: rect(1px, 1px, 1px, 1px);height: 1px;margin: -1px;overflow: hidden;padding: 0;position: absolute;width: 1px;}#sk-container-id-4 div.sk-estimator {font-family: monospace;background-color: #f0f8ff;border: 1px dotted black;border-radius: 0.25em;box-sizing: border-box;margin-bottom: 0.5em;}#sk-container-id-4 div.sk-estimator:hover {background-color: #d4ebff;}#sk-container-id-4 div.sk-parallel-item::after {content: \"\";width: 100%;border-bottom: 1px solid gray;flex-grow: 1;}#sk-container-id-4 div.sk-label:hover label.sk-toggleable__label {background-color: #d4ebff;}#sk-container-id-4 div.sk-serial::before {content: \"\";position: absolute;border-left: 1px solid gray;box-sizing: border-box;top: 0;bottom: 0;left: 50%;z-index: 0;}#sk-container-id-4 div.sk-serial {display: flex;flex-direction: column;align-items: center;background-color: white;padding-right: 0.2em;padding-left: 0.2em;position: relative;}#sk-container-id-4 div.sk-item {position: relative;z-index: 1;}#sk-container-id-4 div.sk-parallel {display: flex;align-items: stretch;justify-content: center;background-color: white;position: relative;}#sk-container-id-4 div.sk-item::before, #sk-container-id-4 div.sk-parallel-item::before {content: \"\";position: absolute;border-left: 1px solid gray;box-sizing: border-box;top: 0;bottom: 0;left: 50%;z-index: -1;}#sk-container-id-4 div.sk-parallel-item {display: flex;flex-direction: column;z-index: 1;position: relative;background-color: white;}#sk-container-id-4 div.sk-parallel-item:first-child::after {align-self: flex-end;width: 50%;}#sk-container-id-4 div.sk-parallel-item:last-child::after {align-self: flex-start;width: 50%;}#sk-container-id-4 div.sk-parallel-item:only-child::after {width: 0;}#sk-container-id-4 div.sk-dashed-wrapped {border: 1px dashed gray;margin: 0 0.4em 0.5em 0.4em;box-sizing: border-box;padding-bottom: 0.4em;background-color: white;}#sk-container-id-4 div.sk-label label {font-family: monospace;font-weight: bold;display: inline-block;line-height: 1.2em;}#sk-container-id-4 div.sk-label-container {text-align: center;}#sk-container-id-4 div.sk-container {/* jupyter's `normalize.less` sets `[hidden] { display: none; }` but bootstrap.min.css set `[hidden] { display: none !important; }` so we also need the `!important` here to be able to override the default hidden behavior on the sphinx rendered scikit-learn.org. See: https://github.com/scikit-learn/scikit-learn/issues/21755 */display: inline-block !important;position: relative;}#sk-container-id-4 div.sk-text-repr-fallback {display: none;}</style><div id=\"sk-container-id-4\" class=\"sk-top-container\"><div class=\"sk-text-repr-fallback\"><pre>Pipeline(steps=[(&#x27;tfidf&#x27;, TfidfVectorizer(stop_words=&#x27;english&#x27;)),\n",
       "                (&#x27;classifier&#x27;,\n",
       "                 MultiOutputClassifier(estimator=RandomForestClassifier()))])</pre><b>In a Jupyter environment, please rerun this cell to show the HTML representation or trust the notebook. <br />On GitHub, the HTML representation is unable to render, please try loading this page with nbviewer.org.</b></div><div class=\"sk-container\" hidden><div class=\"sk-item sk-dashed-wrapped\"><div class=\"sk-label-container\"><div class=\"sk-label sk-toggleable\"><input class=\"sk-toggleable__control sk-hidden--visually\" id=\"sk-estimator-id-16\" type=\"checkbox\" ><label for=\"sk-estimator-id-16\" class=\"sk-toggleable__label sk-toggleable__label-arrow\">Pipeline</label><div class=\"sk-toggleable__content\"><pre>Pipeline(steps=[(&#x27;tfidf&#x27;, TfidfVectorizer(stop_words=&#x27;english&#x27;)),\n",
       "                (&#x27;classifier&#x27;,\n",
       "                 MultiOutputClassifier(estimator=RandomForestClassifier()))])</pre></div></div></div><div class=\"sk-serial\"><div class=\"sk-item\"><div class=\"sk-estimator sk-toggleable\"><input class=\"sk-toggleable__control sk-hidden--visually\" id=\"sk-estimator-id-17\" type=\"checkbox\" ><label for=\"sk-estimator-id-17\" class=\"sk-toggleable__label sk-toggleable__label-arrow\">TfidfVectorizer</label><div class=\"sk-toggleable__content\"><pre>TfidfVectorizer(stop_words=&#x27;english&#x27;)</pre></div></div></div><div class=\"sk-item sk-dashed-wrapped\"><div class=\"sk-label-container\"><div class=\"sk-label sk-toggleable\"><input class=\"sk-toggleable__control sk-hidden--visually\" id=\"sk-estimator-id-18\" type=\"checkbox\" ><label for=\"sk-estimator-id-18\" class=\"sk-toggleable__label sk-toggleable__label-arrow\">classifier: MultiOutputClassifier</label><div class=\"sk-toggleable__content\"><pre>MultiOutputClassifier(estimator=RandomForestClassifier())</pre></div></div></div><div class=\"sk-parallel\"><div class=\"sk-parallel-item\"><div class=\"sk-item\"><div class=\"sk-label-container\"><div class=\"sk-label sk-toggleable\"><input class=\"sk-toggleable__control sk-hidden--visually\" id=\"sk-estimator-id-19\" type=\"checkbox\" ><label for=\"sk-estimator-id-19\" class=\"sk-toggleable__label sk-toggleable__label-arrow\">estimator: RandomForestClassifier</label><div class=\"sk-toggleable__content\"><pre>RandomForestClassifier()</pre></div></div></div><div class=\"sk-serial\"><div class=\"sk-item\"><div class=\"sk-estimator sk-toggleable\"><input class=\"sk-toggleable__control sk-hidden--visually\" id=\"sk-estimator-id-20\" type=\"checkbox\" ><label for=\"sk-estimator-id-20\" class=\"sk-toggleable__label sk-toggleable__label-arrow\">RandomForestClassifier</label><div class=\"sk-toggleable__content\"><pre>RandomForestClassifier()</pre></div></div></div></div></div></div></div></div></div></div></div></div>"
      ],
      "text/plain": [
       "Pipeline(steps=[('tfidf', TfidfVectorizer(stop_words='english')),\n",
       "                ('classifier',\n",
       "                 MultiOutputClassifier(estimator=RandomForestClassifier()))])"
      ]
     },
     "execution_count": 106,
     "metadata": {},
     "output_type": "execute_result"
    }
   ],
   "source": [
    "pipe.fit(input_data, outputbd)"
   ]
  },
  {
   "cell_type": "code",
   "execution_count": 85,
   "id": "ea135d94",
   "metadata": {},
   "outputs": [],
   "source": [
    "# Read the test data json file and convert to json dict\n",
    "with open(\"/Users/suprajagandhi/Downloads/deliverable-dataset/test-set-20000-rev2.json\", \"r\") as file:\n",
    "    test_data = json.load(file)"
   ]
  },
  {
   "cell_type": "code",
   "execution_count": 86,
   "id": "780f3010",
   "metadata": {},
   "outputs": [
    {
     "data": {
      "text/html": [
       "<div>\n",
       "<style scoped>\n",
       "    .dataframe tbody tr th:only-of-type {\n",
       "        vertical-align: middle;\n",
       "    }\n",
       "\n",
       "    .dataframe tbody tr th {\n",
       "        vertical-align: top;\n",
       "    }\n",
       "\n",
       "    .dataframe thead th {\n",
       "        text-align: right;\n",
       "    }\n",
       "</style>\n",
       "<table border=\"1\" class=\"dataframe\">\n",
       "  <thead>\n",
       "    <tr style=\"text-align: right;\">\n",
       "      <th></th>\n",
       "      <th>pmid</th>\n",
       "      <th>title</th>\n",
       "      <th>abstractText</th>\n",
       "      <th>meshMajor</th>\n",
       "    </tr>\n",
       "  </thead>\n",
       "  <tbody>\n",
       "    <tr>\n",
       "      <th>0</th>\n",
       "      <td>6825728</td>\n",
       "      <td>Superoxide dismutase, catalase and glutathione...</td>\n",
       "      <td>The activities of the protective enzymes, supe...</td>\n",
       "      <td>[Aged, Animals, Catalase, Cataract, Cattle, Gl...</td>\n",
       "    </tr>\n",
       "    <tr>\n",
       "      <th>1</th>\n",
       "      <td>1275705</td>\n",
       "      <td>Division of the pyriformis muscle for the trea...</td>\n",
       "      <td>Division of the pyriformis muscle at its tendi...</td>\n",
       "      <td>[Adult, Aged, Humans, Laminectomy, Lumbar Vert...</td>\n",
       "    </tr>\n",
       "    <tr>\n",
       "      <th>2</th>\n",
       "      <td>19268353</td>\n",
       "      <td>Maternal and child health in the occupied Pale...</td>\n",
       "      <td>The Countdown to 2015 intervention coverage in...</td>\n",
       "      <td>[Adolescent, Adult, Birth Rate, Child Health S...</td>\n",
       "    </tr>\n",
       "    <tr>\n",
       "      <th>3</th>\n",
       "      <td>8706361</td>\n",
       "      <td>The effect of ultra-low sodium dialysate in CA...</td>\n",
       "      <td>In peritoneal dialysis, sodium (Na) passes thr...</td>\n",
       "      <td>[Adult, Biological Transport, Chronic Disease,...</td>\n",
       "    </tr>\n",
       "    <tr>\n",
       "      <th>4</th>\n",
       "      <td>2041353</td>\n",
       "      <td>[Surgical treatment of extensive hemangiomas o...</td>\n",
       "      <td>The results of treatment of 7 patients with ex...</td>\n",
       "      <td>[Adult, Age Factors, Aged, Female, Hemangioma,...</td>\n",
       "    </tr>\n",
       "  </tbody>\n",
       "</table>\n",
       "</div>"
      ],
      "text/plain": [
       "       pmid                                              title  \\\n",
       "0   6825728  Superoxide dismutase, catalase and glutathione...   \n",
       "1   1275705  Division of the pyriformis muscle for the trea...   \n",
       "2  19268353  Maternal and child health in the occupied Pale...   \n",
       "3   8706361  The effect of ultra-low sodium dialysate in CA...   \n",
       "4   2041353  [Surgical treatment of extensive hemangiomas o...   \n",
       "\n",
       "                                        abstractText  \\\n",
       "0  The activities of the protective enzymes, supe...   \n",
       "1  Division of the pyriformis muscle at its tendi...   \n",
       "2  The Countdown to 2015 intervention coverage in...   \n",
       "3  In peritoneal dialysis, sodium (Na) passes thr...   \n",
       "4  The results of treatment of 7 patients with ex...   \n",
       "\n",
       "                                           meshMajor  \n",
       "0  [Aged, Animals, Catalase, Cataract, Cattle, Gl...  \n",
       "1  [Adult, Aged, Humans, Laminectomy, Lumbar Vert...  \n",
       "2  [Adolescent, Adult, Birth Rate, Child Health S...  \n",
       "3  [Adult, Biological Transport, Chronic Disease,...  \n",
       "4  [Adult, Age Factors, Aged, Female, Hemangioma,...  "
      ]
     },
     "execution_count": 86,
     "metadata": {},
     "output_type": "execute_result"
    }
   ],
   "source": [
    "#Converting json dictionary to dataframe\n",
    "te_data = pd.DataFrame(test_data[\"documents\"])\n",
    "te_data.head()"
   ]
  },
  {
   "cell_type": "code",
   "execution_count": 87,
   "id": "07376efc",
   "metadata": {},
   "outputs": [
    {
     "name": "stdout",
     "output_type": "stream",
     "text": [
      "0        [Aged, Animals, Catalase, Cataract, Cattle, Gl...\n",
      "1        [Adult, Aged, Humans, Laminectomy, Lumbar Vert...\n",
      "2        [Adolescent, Adult, Birth Rate, Child Health S...\n",
      "3        [Adult, Biological Transport, Chronic Disease,...\n",
      "4        [Adult, Age Factors, Aged, Female, Hemangioma,...\n",
      "                               ...                        \n",
      "19995    [Animals, Antigens, Helminth, Carbohydrate Con...\n",
      "19996    [Activities of Daily Living, Adolescent, Adult...\n",
      "19997    [Animals, Body Weight, Copper, Diet, Female, I...\n",
      "19998    [Animals, Antibodies, Viral, Body Weight, Cerc...\n",
      "19999    [Anthrax, Bacillus anthracis, Clostridium, Con...\n",
      "Name: meshMajor, Length: 20000, dtype: object\n"
     ]
    }
   ],
   "source": [
    "te_input = te_data['title'] + ' ' + te_data['abstractText']\n",
    "te_output = te_data['meshMajor']\n",
    "print(te_output)\n"
   ]
  },
  {
   "cell_type": "code",
   "execution_count": 92,
   "id": "9aab82b6",
   "metadata": {},
   "outputs": [],
   "source": [
    "te_output_binary = binarizer.fit_transform(te_output)\n",
    "te_outputbd = csr_matrix(te_output_binary).todense()"
   ]
  },
  {
   "cell_type": "code",
   "execution_count": null,
   "id": "630a4b4f",
   "metadata": {},
   "outputs": [],
   "source": [
    "predicted_labels = pipe.predict(te_input)"
   ]
  },
  {
   "cell_type": "code",
   "execution_count": null,
   "id": "b1e788b7",
   "metadata": {},
   "outputs": [],
   "source": [
    "#pred_labels_inv = binarizer.inverse_transform(predicted_labels)"
   ]
  },
  {
   "cell_type": "code",
   "execution_count": 102,
   "id": "9563bb80",
   "metadata": {},
   "outputs": [
    {
     "name": "stdout",
     "output_type": "stream",
     "text": [
      "(20000, 4550)\n",
      "(20000, 16247)\n"
     ]
    }
   ],
   "source": [
    "print(predicted_labels.shape)\n",
    "print(te_outputbd.shape)"
   ]
  },
  {
   "cell_type": "code",
   "execution_count": 110,
   "id": "512938e2",
   "metadata": {},
   "outputs": [
    {
     "name": "stdout",
     "output_type": "stream",
     "text": [
      "Accuracy is 0.0\n"
     ]
    }
   ],
   "source": [
    "from sklearn.metrics import accuracy_score\n",
    "#Accuracy\n",
    "acc = accuracy_score(te_outputbd, predicted_labels)\n",
    "print(\"Accuracy is \" +str(acc))"
   ]
  },
  {
   "cell_type": "code",
   "execution_count": 112,
   "id": "05f4554f",
   "metadata": {},
   "outputs": [
    {
     "name": "stdout",
     "output_type": "stream",
     "text": [
      "Micro precision is0.7564935064935064\n"
     ]
    }
   ],
   "source": [
    "from sklearn.metrics import precision_score\n",
    "mp = precision_score(te_output, predicted_labels, average='micro')\n",
    "print(\"Micro precision is\" +str(mp))"
   ]
  },
  {
   "cell_type": "code",
   "execution_count": 113,
   "id": "2287b3a6",
   "metadata": {},
   "outputs": [
    {
     "name": "stdout",
     "output_type": "stream",
     "text": [
      "Micro Recall is0.09048543689320389\n"
     ]
    }
   ],
   "source": [
    "from sklearn.metrics import recall_score\n",
    "mr = recall_score(te_output, predicted_labels, average='micro')\n",
    "print(\"Micro Recall is\" +str(mr))"
   ]
  },
  {
   "cell_type": "code",
   "execution_count": 114,
   "id": "11491f8f",
   "metadata": {},
   "outputs": [
    {
     "name": "stdout",
     "output_type": "stream",
     "text": [
      "F1 score is0.16163718348942074\n"
     ]
    }
   ],
   "source": [
    "from sklearn.metrics import f1_score\n",
    "mf = f1_score(te_output, predicted_labels, average='micro')\n",
    "print(\"F1 score is\" +str(mf))"
   ]
  },
  {
   "cell_type": "code",
   "execution_count": 115,
   "id": "4f796bf3",
   "metadata": {},
   "outputs": [],
   "source": [
    "# Read the judge data json file and convert to json dict\n",
    "with open(\"/Users/suprajagandhi/Downloads/deliverable-dataset/judge-set-10000-unannotated.json\", \"r\") as file:\n",
    "    judge_data = json.load(file)"
   ]
  },
  {
   "cell_type": "code",
   "execution_count": 116,
   "id": "b5c7e3c6",
   "metadata": {
    "scrolled": false
   },
   "outputs": [
    {
     "data": {
      "text/html": [
       "<div>\n",
       "<style scoped>\n",
       "    .dataframe tbody tr th:only-of-type {\n",
       "        vertical-align: middle;\n",
       "    }\n",
       "\n",
       "    .dataframe tbody tr th {\n",
       "        vertical-align: top;\n",
       "    }\n",
       "\n",
       "    .dataframe thead th {\n",
       "        text-align: right;\n",
       "    }\n",
       "</style>\n",
       "<table border=\"1\" class=\"dataframe\">\n",
       "  <thead>\n",
       "    <tr style=\"text-align: right;\">\n",
       "      <th></th>\n",
       "      <th>pmid</th>\n",
       "      <th>title</th>\n",
       "      <th>abstractText</th>\n",
       "    </tr>\n",
       "  </thead>\n",
       "  <tbody>\n",
       "    <tr>\n",
       "      <th>0</th>\n",
       "      <td>16854706</td>\n",
       "      <td>The use of seat belts in cars with smart seat ...</td>\n",
       "      <td>UNLABELLED: Recently, smart seat belt reminder...</td>\n",
       "    </tr>\n",
       "    <tr>\n",
       "      <th>1</th>\n",
       "      <td>12943287</td>\n",
       "      <td>Alignment in total knee arthroplasty following...</td>\n",
       "      <td>In total knee arthroplasty (TKA) following fai...</td>\n",
       "    </tr>\n",
       "    <tr>\n",
       "      <th>2</th>\n",
       "      <td>9808709</td>\n",
       "      <td>The expression of heme oxygenase-1 gene respon...</td>\n",
       "      <td>Phorone, a glutathione (GSH) depletor, induces...</td>\n",
       "    </tr>\n",
       "    <tr>\n",
       "      <th>3</th>\n",
       "      <td>3856646</td>\n",
       "      <td>Tympanic plate fracture from mandibular trauma.</td>\n",
       "      <td>A case in which trauma to the mandibular midli...</td>\n",
       "    </tr>\n",
       "    <tr>\n",
       "      <th>4</th>\n",
       "      <td>22033210</td>\n",
       "      <td>Escherichia coli lipopolysaccharides and Staph...</td>\n",
       "      <td>MicroRNAs (miRNAs) are a family of regulatory ...</td>\n",
       "    </tr>\n",
       "  </tbody>\n",
       "</table>\n",
       "</div>"
      ],
      "text/plain": [
       "       pmid                                              title  \\\n",
       "0  16854706  The use of seat belts in cars with smart seat ...   \n",
       "1  12943287  Alignment in total knee arthroplasty following...   \n",
       "2   9808709  The expression of heme oxygenase-1 gene respon...   \n",
       "3   3856646    Tympanic plate fracture from mandibular trauma.   \n",
       "4  22033210  Escherichia coli lipopolysaccharides and Staph...   \n",
       "\n",
       "                                        abstractText  \n",
       "0  UNLABELLED: Recently, smart seat belt reminder...  \n",
       "1  In total knee arthroplasty (TKA) following fai...  \n",
       "2  Phorone, a glutathione (GSH) depletor, induces...  \n",
       "3  A case in which trauma to the mandibular midli...  \n",
       "4  MicroRNAs (miRNAs) are a family of regulatory ...  "
      ]
     },
     "execution_count": 116,
     "metadata": {},
     "output_type": "execute_result"
    }
   ],
   "source": [
    "#Converting json dictionary to dataframe\n",
    "judge_data = pd.DataFrame(judge_data[\"documents\"])\n",
    "judge_data.head()"
   ]
  },
  {
   "cell_type": "code",
   "execution_count": 117,
   "id": "f5783ec3",
   "metadata": {},
   "outputs": [],
   "source": [
    "judge_input = judge_data['title'] + ' ' + judge_data['abstractText']"
   ]
  },
  {
   "cell_type": "code",
   "execution_count": 119,
   "id": "cfea576b",
   "metadata": {},
   "outputs": [],
   "source": [
    "pred_judge_labels = pipe.predict(judge_input)"
   ]
  },
  {
   "cell_type": "code",
   "execution_count": null,
   "id": "f22238f5",
   "metadata": {},
   "outputs": [],
   "source": [
    "labels = binarizer.inverse_transform(pred_judge_labels)"
   ]
  },
  {
   "cell_type": "code",
   "execution_count": null,
   "id": "5d83ddf5",
   "metadata": {},
   "outputs": [],
   "source": [
    "#output JSON\n",
    "pmid = judge_data[\"pmid\"].tolist()\n",
    "output_JSON = {\"documents\": [{\"pmid\": pmid, \"labels\": list(labels)} for pmid, labels in zip(pmid, labels)}"
   ]
  },
  {
   "cell_type": "code",
   "execution_count": null,
   "id": "3276616a",
   "metadata": {},
   "outputs": [],
   "source": [
    "with open(\"judge_labels_predicted.json\", \"w\") as json_file:\n",
    "    json.dump(output_JSON, json_file)"
   ]
  }
 ],
 "metadata": {
  "kernelspec": {
   "display_name": "Python 3 (ipykernel)",
   "language": "python",
   "name": "python3"
  },
  "language_info": {
   "codemirror_mode": {
    "name": "ipython",
    "version": 3
   },
   "file_extension": ".py",
   "mimetype": "text/x-python",
   "name": "python",
   "nbconvert_exporter": "python",
   "pygments_lexer": "ipython3",
   "version": "3.9.13"
  }
 },
 "nbformat": 4,
 "nbformat_minor": 5
}
